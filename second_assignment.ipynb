{
 "cells": [
  {
   "cell_type": "code",
   "execution_count": 1,
   "id": "7e2c07b5",
   "metadata": {},
   "outputs": [
    {
     "name": "stdout",
     "output_type": "stream",
     "text": [
      "Welcome to the Compound Interest Calculator.\n",
      "Please enter the initial amount of your investment: 25000\n",
      "Please enter the interest rate (e.g., '.03' for 3% interest): .04\n",
      "Please enter the number of years for the investment: 10\n",
      "Please enter the number of times interest is compounded per year (e.g., 12 for monthly, 4 for quarterly, 1 for annual): 12\n",
      "\n",
      "Original Investment:  $25,000.00\n",
      "Interest Earned:       $12,270.82\n",
      "Final Balance:         $37,270.82\n"
     ]
    }
   ],
   "source": [
    "def compound_interest(principal, rate, compounds_per_year, years):\n",
    "    \"\"\"\n",
    "    Calculates compound interest using the formula:\n",
    "    P' = P * (1 + r/n)^(nt)\n",
    "    where:\n",
    "    - P is the principal amount\n",
    "    - r is the annual interest rate (decimal)\n",
    "    - n is the number of times interest is compounded per year\n",
    "    - t is the number of years\n",
    "    Returns the final amount after interest is applied.\n",
    "    \"\"\"\n",
    "    return principal * (1 + rate / compounds_per_year) ** (compounds_per_year * years)\n",
    "\n",
    "def format_currency(amount):\n",
    "    \"\"\"\n",
    "    Formats a float as a dollar amount with commas and two decimal places.\n",
    "    \"\"\"\n",
    "    return f\"${amount:,.2f}\"\n",
    "\n",
    "def main():\n",
    "    print(\"Welcome to the Compound Interest Calculator.\")\n",
    "\n",
    "    # Taking user inputs\n",
    "    P = float(input(\"Please enter the initial amount of your investment: \"))\n",
    "    r = float(input(\"Please enter the interest rate (e.g., '.03' for 3% interest): \"))\n",
    "    t = int(input(\"Please enter the number of years for the investment: \"))\n",
    "    n = int(input(\"Please enter the number of times interest is compounded per year (e.g., 12 for monthly, 4 for quarterly, 1 for annual): \"))\n",
    "\n",
    "    # Calculate final balance\n",
    "    final_balance = compound_interest(P, r, n, t)\n",
    "\n",
    "    # Calculate interest earned\n",
    "    interest_earned = final_balance - P\n",
    "\n",
    "    # Display results\n",
    "    print(\"\\nOriginal Investment: \", format_currency(P))\n",
    "    print(\"Interest Earned:      \", format_currency(interest_earned))\n",
    "    print(\"Final Balance:        \", format_currency(final_balance))\n",
    "\n",
    "if __name__ == \"__main__\":\n",
    "    main()\n"
   ]
  },
  {
   "cell_type": "code",
   "execution_count": null,
   "id": "4cc24f52",
   "metadata": {},
   "outputs": [],
   "source": []
  }
 ],
 "metadata": {
  "kernelspec": {
   "display_name": "Python 3 (ipykernel)",
   "language": "python",
   "name": "python3"
  },
  "language_info": {
   "codemirror_mode": {
    "name": "ipython",
    "version": 3
   },
   "file_extension": ".py",
   "mimetype": "text/x-python",
   "name": "python",
   "nbconvert_exporter": "python",
   "pygments_lexer": "ipython3",
   "version": "3.13.0"
  }
 },
 "nbformat": 4,
 "nbformat_minor": 5
}
