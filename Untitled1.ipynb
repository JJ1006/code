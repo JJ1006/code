{
  "nbformat": 4,
  "nbformat_minor": 0,
  "metadata": {
    "colab": {
      "provenance": []
    },
    "kernelspec": {
      "name": "python3",
      "display_name": "Python 3"
    },
    "language_info": {
      "name": "python"
    }
  },
  "cells": [
    {
      "cell_type": "code",
      "execution_count": 8,
      "metadata": {
        "colab": {
          "base_uri": "https://localhost:8080/"
        },
        "id": "gh02Tcbng1Gu",
        "outputId": "f45e6572-7f34-48d3-9d06-83efa0921263"
      },
      "outputs": [
        {
          "output_type": "stream",
          "name": "stdout",
          "text": [
            "tensor(5) torch.Size([])\n",
            "tensor([1, 2, 3]) torch.Size([3])\n",
            "tensor([[1, 2],\n",
            "        [3, 4]]) torch.Size([2, 2])\n",
            "tensor([[[1, 2],\n",
            "         [3, 4]],\n",
            "\n",
            "        [[5, 6],\n",
            "         [7, 8]],\n",
            "\n",
            "        [[5, 6],\n",
            "         [7, 8]]]) torch.Size([3, 2, 2])\n"
          ]
        }
      ],
      "source": [
        "import torch\n",
        "\n",
        "# Scalar (0D tensor)\n",
        "scalar = torch.tensor(5)\n",
        "print(scalar, scalar.shape)  # tensor(5) torch.Size([])\n",
        "\n",
        "# Vector (1D tensor)\n",
        "vector = torch.tensor([1, 2, 3])\n",
        "print(vector, vector.shape)  # tensor([1, 2, 3]) torch.Size([3])\n",
        "\n",
        "# Matrix (2D tensor)\n",
        "matrix = torch.tensor([[1, 2], [3, 4]])\n",
        "print(matrix, matrix.shape)  # tensor([[1, 2], [3, 4]]) torch.Size([2, 2])\n",
        "\n",
        "# 3D Tensor\n",
        "tensor_3d = torch.tensor([[[1, 2], [3, 4]], [[5, 6], [7, 8]],[[5, 6], [7, 8]]])\n",
        "print(tensor_3d, tensor_3d.shape)  # torch.Size([2, 2, 2])\n"
      ]
    },
    {
      "cell_type": "code",
      "source": [
        "a = torch.tensor([1, 2, 3]) # 1D tensor\n",
        "b = torch.tensor([4, 5, 6]) # 1D tensor\n",
        "\n",
        "# Addition\n",
        "print(\"Performing Addition:\")\n",
        "print(a + b)  # tensor([5, 7, 9])\n",
        "print()\n",
        "\n",
        "# Multiplication\n",
        "print(\"Performing Multiplication:\")\n",
        "print(a * b)  # tensor([ 4, 10, 18])\n",
        "print()\n",
        "\n",
        "# Dot Product\n",
        "print(\"Performing Dot Product:\")\n",
        "print(torch.dot(a, b))  # tensor(32)\n",
        "print()\n",
        "\n",
        "# Reshaping\n",
        "print(\"Performing Reshaping:\")\n",
        "reshaped = torch.reshape(matrix, (1, 4))\n",
        "print(reshaped)  # tensor([[1, 2, 3, 4]])"
      ],
      "metadata": {
        "colab": {
          "base_uri": "https://localhost:8080/"
        },
        "id": "rQCgjZvxknb3",
        "outputId": "aa4b67a3-d59a-413f-cc50-7925146c1d9c"
      },
      "execution_count": 11,
      "outputs": [
        {
          "output_type": "stream",
          "name": "stdout",
          "text": [
            "Performing Addition\n",
            "tensor([5, 7, 9])\n",
            "\n",
            "Performing Multiplication\n",
            "tensor([ 4, 10, 18])\n",
            "\n",
            "Performing Dot Product\n",
            "tensor(32)\n",
            "\n",
            "Performing Reshaping\n",
            "tensor([[1, 2, 3, 4]])\n"
          ]
        }
      ]
    },
    {
      "cell_type": "code",
      "source": [
        "# Move tensor to GPU\n",
        "if torch.cuda.is_available():\n",
        "    gpu_tensor = a.to('cuda')\n",
        "    print(gpu_tensor)\n",
        "    print(\"The code completion\")\n",
        "\n",
        "else:\n",
        "  print(\"Not connected to GPU\")\n"
      ],
      "metadata": {
        "colab": {
          "base_uri": "https://localhost:8080/"
        },
        "id": "JJLLCl69mVlo",
        "outputId": "b28ba6da-05d7-4e6d-d0fb-1eb85fbe97ba"
      },
      "execution_count": 15,
      "outputs": [
        {
          "output_type": "stream",
          "name": "stdout",
          "text": [
            "Is CUDA available? False\n",
            "Device name: No GPU detected\n"
          ]
        }
      ]
    },
    {
      "cell_type": "code",
      "source": [
        "x = torch.tensor(3.0, requires_grad=True)\n",
        "y = x ** 2 + 2 * x + 1\n",
        "\n",
        "# Compute gradient\n",
        "y.backward()\n",
        "\n",
        "# Gradient of y with respect to x\n",
        "print(x.grad)  # tensor(8.)\n"
      ],
      "metadata": {
        "colab": {
          "base_uri": "https://localhost:8080/"
        },
        "id": "TIx4AyEFog38",
        "outputId": "8f009d8e-25a9-4dba-b518-6acb487f8d75"
      },
      "execution_count": 18,
      "outputs": [
        {
          "output_type": "stream",
          "name": "stdout",
          "text": [
            "tensor(407.)\n"
          ]
        }
      ]
    },
    {
      "cell_type": "code",
      "source": [
        "import torch\n",
        "import torch.nn as nn\n",
        "\n",
        "class SimpleNN(nn.Module):\n",
        "    def __init__(self):\n",
        "        super(SimpleNN, self).__init__()\n",
        "        self.fc1 = nn.Linear(2, 4)  # Fully connected layer\n",
        "        self.fc2 = nn.Linear(4, 1)  # Output layer\n",
        "\n",
        "    def forward(self, x):\n",
        "        x = torch.relu(self.fc1(x))\n",
        "        x = torch.sigmoid(self.fc2(x))\n",
        "        return x\n",
        "\n",
        "# Instantiate the model\n",
        "model = SimpleNN()\n",
        "print(model)\n"
      ],
      "metadata": {
        "colab": {
          "base_uri": "https://localhost:8080/"
        },
        "id": "BhScILL3rOU9",
        "outputId": "1ee331d7-797c-4bdf-e7ef-8e6c0cb16d8a"
      },
      "execution_count": 19,
      "outputs": [
        {
          "output_type": "stream",
          "name": "stdout",
          "text": [
            "SimpleNN(\n",
            "  (fc1): Linear(in_features=2, out_features=4, bias=True)\n",
            "  (fc2): Linear(in_features=4, out_features=1, bias=True)\n",
            ")\n"
          ]
        }
      ]
    }
  ]
}